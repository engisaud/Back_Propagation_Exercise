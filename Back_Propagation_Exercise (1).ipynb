{
  "nbformat": 4,
  "nbformat_minor": 0,
  "metadata": {
    "colab": {
      "provenance": []
    },
    "kernelspec": {
      "name": "python3",
      "display_name": "Python 3"
    },
    "language_info": {
      "name": "python"
    }
  },
  "cells": [
    {
      "cell_type": "markdown",
      "source": [
        "#**Back Propagation**"
      ],
      "metadata": {
        "id": "E9uCkFiBGnWc"
      }
    },
    {
      "cell_type": "markdown",
      "source": [
        "#Step 1 : import libraries"
      ],
      "metadata": {
        "id": "U02xjPIyG1cZ"
      }
    },
    {
      "cell_type": "code",
      "source": [
        "import numpy as np\n",
        "import pandas as pd\n",
        "from sklearn.datasets import load_iris\n",
        "from sklearn.model_selection import train_test_split\n",
        "import matplotlib.pyplot as plt\n"
      ],
      "metadata": {
        "id": "Fx3E4_efG5Do"
      },
      "execution_count": 2,
      "outputs": []
    },
    {
      "cell_type": "markdown",
      "source": [
        "#Step 2 :Load the Dataset\n",
        "###Upload palmer penguins dataset \" / LAB/ Dataset/ penguins.csv\n",
        "\n",
        "\n",
        "\n"
      ],
      "metadata": {
        "id": "eHvhfU6MGtpk"
      }
    },
    {
      "cell_type": "code",
      "execution_count": 3,
      "metadata": {
        "id": "btqadzfLGmQD"
      },
      "outputs": [],
      "source": [
        "# Loading dataset\n",
        "data = load_iris()\n",
        "\n",
        "# Dividing the dataset into target variable and features\n",
        "X=data.data\n",
        "y=data.target"
      ]
    },
    {
      "cell_type": "markdown",
      "source": [
        "#Step 3: Split Dataset in Training and Testing\n"
      ],
      "metadata": {
        "id": "cuyxnZAWHIGk"
      }
    },
    {
      "cell_type": "code",
      "source": [
        "# Split dataset into training and test sets\n",
        "X_train, X_test, y_train, y_test = train_test_split(X, y, test_size=20, random_state=4)\n"
      ],
      "metadata": {
        "id": "TMNbaJekHCid"
      },
      "execution_count": 4,
      "outputs": []
    },
    {
      "cell_type": "markdown",
      "source": [
        "# Step 4 : initializing the hyperparameters"
      ],
      "metadata": {
        "id": "yfoa5GAXHhUD"
      }
    },
    {
      "cell_type": "code",
      "source": [
        "learning_rate = 0.1\n",
        "iterations = 5000\n",
        "N = y_train.size\n",
        "\n",
        "# Input features\n",
        "input_size = 4\n",
        "\n",
        "# Hidden layers\n",
        "hidden_size = 2\n",
        "\n",
        "# Output layer\n",
        "output_size = 3\n"
      ],
      "metadata": {
        "id": "gCYVcC4THc7i"
      },
      "execution_count": 5,
      "outputs": []
    },
    {
      "cell_type": "markdown",
      "source": [
        "#Step 5 : Initialize Weights"
      ],
      "metadata": {
        "id": "IHrgBvH7HtCr"
      }
    },
    {
      "cell_type": "code",
      "source": [
        "np.random.seed(10)\n",
        "\n",
        "# Hidden layer\n",
        "W1 = np.random.normal(scale=0.5, size=(input_size, hidden_size))\n",
        "\n",
        "# Output layer\n",
        "W2 = np.random.normal(scale=0.5, size=(hidden_size , output_size))\n"
      ],
      "metadata": {
        "id": "RAba9ZSXHwvm"
      },
      "execution_count": 6,
      "outputs": []
    },
    {
      "cell_type": "markdown",
      "source": [
        "#Step 6 : mean squared error, accuracy and sigmoid.\n",
        "\n"
      ],
      "metadata": {
        "id": "IE37VIICH1QA"
      }
    },
    {
      "cell_type": "code",
      "source": [
        "# Helper functions\n",
        "\n",
        "def sigmoid(x):\n",
        "    return 1 / (1 + np.exp(-x))\n",
        "\n",
        "def mean_squared_error(y_pred, y_true):\n",
        "    # One-hot encode y_true (i.e., convert [0, 1, 2] into [[1, 0, 0], [0, 1, 0], [0, 0, 1]])\n",
        "    y_true_one_hot = np.eye(output_size)[y_true]\n",
        "\n",
        "    # Reshape y_true_one_hot to match y_pred shape\n",
        "    y_true_reshaped = y_true_one_hot.reshape(y_pred.shape)\n",
        "\n",
        "    # Compute the mean squared error between y_pred and y_true_reshaped\n",
        "    error = ((y_pred - y_true_reshaped)**2).sum() / (2*y_pred.size)\n",
        "\n",
        "    return error\n",
        "\n",
        "def accuracy(y_pred, y_true):\n",
        "    acc = y_pred.argmax(axis=1) ==  y_true.argmax(axis=1)\n",
        "    return acc.mean()\n",
        "\n",
        "results = pd.DataFrame(columns=[\"mse\", \"accuracy\"])\n"
      ],
      "metadata": {
        "id": "sLYRpQ-HH0ms"
      },
      "execution_count": 7,
      "outputs": []
    },
    {
      "cell_type": "markdown",
      "source": [
        "#Step 7 : Building the Backpropogation Model in Python\n",
        "###We will create a for loop for a given number of iterations and will update the weights in each iteration. The model will go through three phases feedforward propagation, the error calculation phase, and the backpropagation phase.\n"
      ],
      "metadata": {
        "id": "g1AZMCfcIqMi"
      }
    },
    {
      "cell_type": "code",
      "source": [
        "# Training loop\n",
        "\n",
        "for itr in range(iterations):\n",
        "    # Feedforward propagation\n",
        "    Z1 = np.dot(X_train, W1)\n",
        "    A1 = sigmoid(Z1)\n",
        "    Z2 = np.dot(A1, W2)\n",
        "    A2 = sigmoid(Z2)\n",
        "\n",
        "    # Calculate error\n",
        "    mse = mean_squared_error(A2, y_train)\n",
        "    acc = accuracy(np.eye(output_size)[y_train], A2)\n",
        "    new_row = pd.DataFrame({\"mse\": [mse], \"accuracy\": [acc]})\n",
        "    results = pd.concat([results, new_row], ignore_index=True)\n",
        "\n",
        "    # Backpropagation\n",
        "    E1 = A2 - np.eye(output_size)[y_train]\n",
        "    dW1 = E1 * A2 * (1 - A2)\n",
        "    E2 = np.dot(dW1, W2.T)\n",
        "    dW2 = E2 * A1 * (1 - A1)\n",
        "\n",
        "    # Update weights\n",
        "    W2_update = np.dot(A1.T, dW1) / N\n",
        "    W1_update = np.dot(X_train.T, dW2) / N\n",
        "    W2 = W2 - learning_rate * W2_update\n",
        "    W1 = W1 - learning_rate * W1_update\n"
      ],
      "metadata": {
        "id": "B-bjwuX2ILsm",
        "colab": {
          "base_uri": "https://localhost:8080/"
        },
        "outputId": "b980d59a-1a04-4d88-ce10-925eb443b559"
      },
      "execution_count": 8,
      "outputs": [
        {
          "output_type": "stream",
          "name": "stderr",
          "text": [
            "<ipython-input-8-41f193a3202e>:14: FutureWarning: The behavior of DataFrame concatenation with empty or all-NA entries is deprecated. In a future version, this will no longer exclude empty or all-NA columns when determining the result dtypes. To retain the old behavior, exclude the relevant entries before the concat operation.\n",
            "  results = pd.concat([results, new_row], ignore_index=True)\n"
          ]
        }
      ]
    },
    {
      "cell_type": "markdown",
      "source": [],
      "metadata": {
        "id": "ByknpjOWJVBv"
      }
    },
    {
      "cell_type": "markdown",
      "source": [
        "# Step 8 : Plot the mean squared error and accuracy using the pandas plot() function.\n",
        "\n"
      ],
      "metadata": {
        "id": "NZitfndrLnI8"
      }
    },
    {
      "cell_type": "code",
      "source": [
        "# Training loop\n",
        "\n",
        "for itr in range(iterations):\n",
        "    # Feedforward propagation\n",
        "    Z1 = np.dot(X_train, W1)\n",
        "    A1 = sigmoid(Z1)\n",
        "    Z2 = np.dot(A1, W2)\n",
        "    A2 = sigmoid(Z2)\n",
        "\n",
        "    # Calculate error\n",
        "    mse = mean_squared_error(A2, y_train)\n",
        "    acc = accuracy(np.eye(output_size)[y_train], A2)\n",
        "    new_row = pd.DataFrame({\"mse\": [mse], \"accuracy\": [acc]})\n",
        "    results = pd.concat([results, new_row], ignore_index=True)\n",
        "\n",
        "    # Backpropagation\n",
        "    E1 = A2 - np.eye(output_size)[y_train]\n",
        "    dW1 = E1 * A2 * (1 - A2)\n",
        "    E2 = np.dot(dW1, W2.T)\n",
        "    dW2 = E2 * A1 * (1 - A1)\n",
        "\n",
        "    # Update weights\n",
        "    W2_update = np.dot(A1.T, dW1) / N\n",
        "    W1_update = np.dot(X_train.T, dW2) / N\n",
        "    W2 = W2 - learning_rate * W2_update\n",
        "    W1 = W1 - learning_rate * W1_update\n"
      ],
      "metadata": {
        "id": "1f6f-aMMLsfa"
      },
      "execution_count": 9,
      "outputs": []
    },
    {
      "cell_type": "markdown",
      "source": [
        "###Now we will calculate the accuracy of the model.\n",
        "\n"
      ],
      "metadata": {
        "id": "M1ES5bR_Lzy1"
      }
    },
    {
      "cell_type": "code",
      "source": [
        "Z1 = np.dot(X_test, W1)\n",
        "A1 = sigmoid(Z1)\n",
        "Z2 = np.dot(A1, W2)\n",
        "A2 = sigmoid(Z2)\n",
        "test_acc = accuracy(np.eye(output_size)[y_test], A2)\n",
        "print(\"Test accuracy: {}\".format(test_acc))\n"
      ],
      "metadata": {
        "id": "_YvQLRVRLzK9",
        "colab": {
          "base_uri": "https://localhost:8080/"
        },
        "outputId": "24adaf33-a39b-468c-dfb4-2c67a46370ee"
      },
      "execution_count": 10,
      "outputs": [
        {
          "output_type": "stream",
          "name": "stdout",
          "text": [
            "Test accuracy: 0.95\n"
          ]
        }
      ]
    },
    {
      "cell_type": "markdown",
      "source": [
        "#**Well Done :)**"
      ],
      "metadata": {
        "id": "b0uAIhZlLx6h"
      }
    }
  ]
}